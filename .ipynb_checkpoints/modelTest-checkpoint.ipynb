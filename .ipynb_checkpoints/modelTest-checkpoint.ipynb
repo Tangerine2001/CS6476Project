{
 "cells": [
  {
   "cell_type": "code",
   "execution_count": 1,
   "id": "initial_id",
   "metadata": {
    "collapsed": true,
    "ExecuteTime": {
     "end_time": "2024-03-24T21:21:33.439574Z",
     "start_time": "2024-03-24T21:21:33.250653Z"
    }
   },
   "outputs": [],
   "source": [
    "%load_ext autoreload\n",
    "%autoreload 2"
   ]
  },
  {
   "cell_type": "code",
   "outputs": [],
   "source": [
    "import tensorflow as tf\n",
    "import os"
   ],
   "metadata": {
    "collapsed": false,
    "ExecuteTime": {
     "end_time": "2024-03-24T21:21:42.624649Z",
     "start_time": "2024-03-24T21:21:33.444578Z"
    }
   },
   "id": "3f86cd31f300361a",
   "execution_count": 2
  },
  {
   "cell_type": "code",
   "outputs": [
    {
     "name": "stdout",
     "output_type": "stream",
     "text": [
      "[]\n"
     ]
    }
   ],
   "source": [
    "print(tf.config.list_physical_devices('GPU'))"
   ],
   "metadata": {
    "collapsed": false,
    "ExecuteTime": {
     "end_time": "2024-03-24T21:21:43.163686Z",
     "start_time": "2024-03-24T21:21:42.628653Z"
    }
   },
   "id": "1ec24135e94ae067",
   "execution_count": 3
  },
  {
   "cell_type": "code",
   "outputs": [],
   "source": [
    "train_file = \"enemyHead_train.tfrecord\"\n",
    "train_dataset = tf.data.TFRecordDataset(train_file)\n",
    "\n",
    "valid_file = \"enemyHead_valid.tfrecord\"\n",
    "valid_dataset = tf.data.TFRecordDataset(valid_file)"
   ],
   "metadata": {
    "collapsed": false,
    "ExecuteTime": {
     "end_time": "2024-03-24T21:21:43.801097Z",
     "start_time": "2024-03-24T21:21:43.166690Z"
    }
   },
   "id": "17ac99bcf2d40f06",
   "execution_count": 4
  },
  {
   "cell_type": "code",
   "outputs": [],
   "source": [
    "# for raw_record in dataset.take(10):\n",
    "#     print(repr(raw_record))\n",
    "    "
   ],
   "metadata": {
    "collapsed": false,
    "ExecuteTime": {
     "end_time": "2024-03-24T21:21:44.315929Z",
     "start_time": "2024-03-24T21:21:43.808102Z"
    }
   },
   "id": "d06c4326c0a6e9b6",
   "execution_count": 5
  },
  {
   "cell_type": "code",
   "outputs": [],
   "source": [
    "keys_to_features = {\n",
    "    'image/encoded': tf.io.FixedLenFeature([], tf.string),\n",
    "    'image/object/class/text': tf.io.VarLenFeature(tf.string),\n",
    "    'image/object/class/label': tf.io.VarLenFeature(tf.int64),\n",
    "}\n",
    "\n",
    "def _parse_function(proto):\n",
    "    # Load one example\n",
    "    parsed_features = tf.io.parse_single_example(proto, keys_to_features)\n",
    "    \n",
    "    # Decode the image\n",
    "    image = tf.image.decode_jpeg(parsed_features['image/encoded'])\n",
    "    image = tf.image.resize(image, [416, 416])\n",
    "    image = image / 255.0  # Normalize pixel values\n",
    "    \n",
    "    # Convert sparse tensor to dense, handling multiple entries if necessary\n",
    "    label = tf.sparse.to_dense(parsed_features['image/object/class/label'], default_value=-1)\n",
    "    text = tf.sparse.to_dense(parsed_features['image/object/class/text'], default_value='')\n",
    "    \n",
    "    # Decode bytes to string for text\n",
    "    text = tf.cast(text, tf.string)\n",
    "    return image, label, text\n",
    "\n",
    "def save_images(dataset):\n",
    "    # Map the dataset to parse the features\n",
    "    images = dataset.map(_parse_function)\n",
    "    \n",
    "    # Directory to save the extracted images\n",
    "    output_dir = 'extracted_images'\n",
    "    os.makedirs(output_dir, exist_ok=True)\n",
    "                \n",
    "    # Iterate over each example\n",
    "    for i, (image_tensor, label_tensor, text_tensor) in enumerate(images):\n",
    "        # Save the image\n",
    "        image_path = os.path.join(output_dir, f'image_{i}.jpg')\n",
    "        tf.io.write_file(image_path, tf.image.encode_jpeg(image_tensor))\n",
    "        print(f'Saved {image_path}')\n",
    "        print(f'Label: {label_tensor.numpy()}, Text: {text_tensor.numpy()}')"
   ],
   "metadata": {
    "collapsed": false,
    "ExecuteTime": {
     "end_time": "2024-03-24T21:21:44.811856Z",
     "start_time": "2024-03-24T21:21:44.318934Z"
    }
   },
   "id": "3fd1387242be8584",
   "execution_count": 6
  },
  {
   "cell_type": "code",
   "outputs": [],
   "source": [
    "model = tf.keras.models.Sequential([\n",
    "    tf.keras.layers.Input(shape=(416, 416, 3)),\n",
    "    tf.keras.layers.Conv2D(64, (3, 3), activation='relu', padding='same'),\n",
    "    tf.keras.layers.MaxPooling2D(pool_size=(2, 2), strides=(2, 2)),\n",
    "    tf.keras.layers.Flatten(),\n",
    "    tf.keras.layers.Dense(4096, activation='relu'),\n",
    "    tf.keras.layers.Dropout(0.5),\n",
    "    tf.keras.layers.Dense(2, activation='softmax')\n",
    "])\n",
    "model.compile(optimizer='adam', loss='sparse_categorical_crossentropy', metrics=['accuracy'])"
   ],
   "metadata": {
    "collapsed": false,
    "is_executing": true,
    "ExecuteTime": {
     "start_time": "2024-03-24T21:21:44.813860Z"
    }
   },
   "id": "ec5dc4b7f104cc68",
   "execution_count": null
  },
  {
   "cell_type": "code",
   "outputs": [],
   "source": [
    "train_dataset = train_dataset.map(_parse_function).batch(32)\n",
    "valid_dataset = valid_dataset.map(_parse_function).batch(32)\n",
    "\n",
    "history = model.fit(train_dataset, epochs=10)"
   ],
   "metadata": {
    "collapsed": false,
    "is_executing": true
   },
   "id": "8e6436b058709d7b",
   "execution_count": null
  },
  {
   "cell_type": "code",
   "outputs": [],
   "source": [
    "\n",
    "train_accuracy = model.evaluate(train_dataset)\n",
    "print(\"Training Accuracy:\", train_accuracy)\n",
    "\n",
    "valid_accuracy = model.evaluate(valid_dataset)\n",
    "print(\"Validation Accuracy:\", valid_accuracy)\n"
   ],
   "metadata": {
    "collapsed": false,
    "is_executing": true
   },
   "id": "538e7feb5c64c88d"
  },
  {
   "cell_type": "code",
   "outputs": [],
   "source": [],
   "metadata": {
    "collapsed": false
   },
   "id": "a730b174fa7deda3"
  }
 ],
 "metadata": {
  "kernelspec": {
   "display_name": "Python 3",
   "language": "python",
   "name": "python3"
  },
  "language_info": {
   "codemirror_mode": {
    "name": "ipython",
    "version": 2
   },
   "file_extension": ".py",
   "mimetype": "text/x-python",
   "name": "python",
   "nbconvert_exporter": "python",
   "pygments_lexer": "ipython2",
   "version": "2.7.6"
  }
 },
 "nbformat": 4,
 "nbformat_minor": 5
}
