{
 "cells": [
  {
   "cell_type": "code",
   "execution_count": 5,
   "id": "initial_id",
   "metadata": {
    "collapsed": true,
    "ExecuteTime": {
     "end_time": "2024-03-24T20:41:20.292368Z",
     "start_time": "2024-03-24T20:41:20.231871Z"
    }
   },
   "outputs": [],
   "source": [
    "%load_ext autoreload\n",
    "%autoreload 2"
   ]
  },
  {
   "cell_type": "code",
   "outputs": [
    {
     "name": "stderr",
     "output_type": "stream",
     "text": [
      "2024-03-24 19:03:55.518426: I tensorflow/core/platform/cpu_feature_guard.cc:210] This TensorFlow binary is optimized to use available CPU instructions in performance-critical operations.\n",
      "To enable the following instructions: AVX2 FMA, in other operations, rebuild TensorFlow with the appropriate compiler flags.\n"
     ]
    }
   ],
   "source": [
    "import tensorflow as tf\n",
    "import os\n",
    "import matplotlib.pyplot as plt"
   ],
   "metadata": {
    "collapsed": false,
    "ExecuteTime": {
     "end_time": "2024-03-24T23:03:59.666407Z",
     "start_time": "2024-03-24T23:03:52.196007Z"
    }
   },
   "id": "3f86cd31f300361a",
   "execution_count": 1
  },
  {
   "cell_type": "code",
   "outputs": [],
   "source": [
    "train_file = \"enemyHead_train.tfrecord\"\n",
    "train_dataset = tf.data.TFRecordDataset(train_file)\n",
    "\n",
    "valid_file = \"enemyHead_valid.tfrecord\"\n",
    "valid_dataset = tf.data.TFRecordDataset(valid_file)"
   ],
   "metadata": {
    "collapsed": false,
    "ExecuteTime": {
     "end_time": "2024-03-24T23:24:38.481235Z",
     "start_time": "2024-03-24T23:24:38.442122Z"
    }
   },
   "id": "17ac99bcf2d40f06",
   "execution_count": 51
  },
  {
   "cell_type": "code",
   "outputs": [],
   "source": [
    "# for raw_record in dataset.take(10):\n",
    "#     print(repr(raw_record))\n",
    "    "
   ],
   "metadata": {
    "collapsed": false,
    "ExecuteTime": {
     "end_time": "2024-03-24T23:24:38.906240Z",
     "start_time": "2024-03-24T23:24:38.896579Z"
    }
   },
   "id": "d06c4326c0a6e9b6",
   "execution_count": 52
  },
  {
   "cell_type": "code",
   "outputs": [
    {
     "name": "stdout",
     "output_type": "stream",
     "text": [
      "Saved extracted_images/image_0.jpg\n",
      "Label: 1.0, Text: [b'enemyHead']\n",
      "Saved extracted_images/image_1.jpg\n",
      "Label: 1.0, Text: [b'enemyHead' b'enemyBody']\n",
      "Saved extracted_images/image_2.jpg\n",
      "Label: 1.0, Text: [b'enemyHead' b'enemyBody']\n",
      "Saved extracted_images/image_3.jpg\n",
      "Label: 1.0, Text: [b'enemyHead']\n",
      "Saved extracted_images/image_4.jpg\n",
      "Label: 1.0, Text: [b'enemyHead' b'enemyBody']\n",
      "Saved extracted_images/image_5.jpg\n",
      "Label: 1.0, Text: [b'enemyHead' b'enemyBody']\n",
      "Saved extracted_images/image_6.jpg\n",
      "Label: 1.0, Text: [b'enemyHead' b'enemyBody']\n",
      "Saved extracted_images/image_7.jpg\n",
      "Label: 1.0, Text: [b'enemyHead' b'enemyBody']\n",
      "Saved extracted_images/image_8.jpg\n",
      "Label: 1.0, Text: [b'enemyHead' b'enemyBody']\n",
      "Saved extracted_images/image_9.jpg\n",
      "Label: 1.0, Text: [b'enemyHead' b'enemyBody']\n",
      "Saved extracted_images/image_10.jpg\n",
      "Label: 1.0, Text: [b'enemyHead' b'enemyBody']\n",
      "Saved extracted_images/image_11.jpg\n",
      "Label: 1.0, Text: [b'enemyHead' b'enemyBody']\n",
      "Saved extracted_images/image_12.jpg\n",
      "Label: 1.0, Text: [b'enemyHead' b'enemyBody']\n",
      "Saved extracted_images/image_13.jpg\n",
      "Label: 1.0, Text: [b'enemyHead' b'enemyBody' b'enemyHead' b'enemyBody']\n",
      "Saved extracted_images/image_14.jpg\n",
      "Label: 1.0, Text: [b'enemyHead' b'enemyBody']\n",
      "Saved extracted_images/image_15.jpg\n",
      "Label: 1.0, Text: [b'enemyHead']\n",
      "Saved extracted_images/image_16.jpg\n",
      "Label: 1.0, Text: [b'enemyHead' b'enemyBody']\n",
      "Saved extracted_images/image_17.jpg\n",
      "Label: 0.0, Text: [b'enemyBody']\n",
      "Saved extracted_images/image_18.jpg\n",
      "Label: 1.0, Text: [b'enemyHead' b'enemyBody' b'enemyHead' b'enemyBody']\n",
      "Saved extracted_images/image_19.jpg\n",
      "Label: 1.0, Text: [b'enemyHead' b'enemyBody']\n",
      "Saved extracted_images/image_20.jpg\n",
      "Label: 1.0, Text: [b'enemyHead' b'enemyBody']\n",
      "Saved extracted_images/image_21.jpg\n",
      "Label: 1.0, Text: [b'enemyHead' b'enemyBody']\n",
      "Saved extracted_images/image_22.jpg\n",
      "Label: 1.0, Text: [b'enemyHead' b'enemyBody']\n",
      "Saved extracted_images/image_23.jpg\n",
      "Label: 1.0, Text: [b'enemyHead' b'enemyBody']\n",
      "Saved extracted_images/image_24.jpg\n",
      "Label: 1.0, Text: [b'enemyHead' b'enemyBody']\n",
      "Saved extracted_images/image_25.jpg\n",
      "Label: 1.0, Text: [b'enemyHead' b'enemyBody']\n",
      "Saved extracted_images/image_26.jpg\n",
      "Label: 1.0, Text: [b'enemyHead' b'enemyBody']\n",
      "Saved extracted_images/image_27.jpg\n",
      "Label: 1.0, Text: [b'enemyHead' b'enemyBody']\n",
      "Saved extracted_images/image_28.jpg\n",
      "Label: 1.0, Text: [b'enemyHead' b'enemyBody']\n",
      "Saved extracted_images/image_29.jpg\n",
      "Label: 1.0, Text: [b'enemyHead' b'enemyBody']\n",
      "Saved extracted_images/image_30.jpg\n",
      "Label: 1.0, Text: [b'enemyHead' b'enemyBody']\n",
      "Saved extracted_images/image_31.jpg\n",
      "Label: 1.0, Text: [b'enemyHead' b'enemyBody']\n",
      "Saved extracted_images/image_32.jpg\n",
      "Label: 1.0, Text: [b'enemyHead' b'enemyBody']\n",
      "Saved extracted_images/image_33.jpg\n",
      "Label: 1.0, Text: [b'enemyHead' b'enemyBody']\n",
      "Saved extracted_images/image_34.jpg\n",
      "Label: 1.0, Text: [b'enemyHead' b'enemyBody']\n",
      "Saved extracted_images/image_35.jpg\n",
      "Label: 1.0, Text: [b'enemyHead' b'enemyBody']\n",
      "Saved extracted_images/image_36.jpg\n",
      "Label: 1.0, Text: [b'enemyHead' b'enemyBody']\n",
      "Saved extracted_images/image_37.jpg\n",
      "Label: 1.0, Text: [b'enemyHead' b'enemyBody']\n",
      "Saved extracted_images/image_38.jpg\n",
      "Label: 1.0, Text: [b'enemyHead' b'enemyBody']\n",
      "Saved extracted_images/image_39.jpg\n",
      "Label: 1.0, Text: [b'enemyHead' b'enemyBody']\n",
      "Saved extracted_images/image_40.jpg\n",
      "Label: 1.0, Text: [b'enemyHead' b'enemyBody']\n",
      "Saved extracted_images/image_41.jpg\n",
      "Label: 1.0, Text: [b'enemyHead' b'enemyBody']\n",
      "Saved extracted_images/image_42.jpg\n",
      "Label: 0.0, Text: []\n",
      "Saved extracted_images/image_43.jpg\n",
      "Label: 0.0, Text: []\n",
      "Saved extracted_images/image_44.jpg\n",
      "Label: 1.0, Text: [b'enemyHead' b'enemyBody']\n",
      "Saved extracted_images/image_45.jpg\n",
      "Label: 1.0, Text: [b'enemyHead' b'enemyBody']\n",
      "Saved extracted_images/image_46.jpg\n",
      "Label: 1.0, Text: [b'enemyHead' b'enemyBody']\n",
      "Saved extracted_images/image_47.jpg\n",
      "Label: 1.0, Text: [b'enemyHead' b'enemyBody']\n",
      "Saved extracted_images/image_48.jpg\n",
      "Label: 1.0, Text: [b'enemyHead' b'enemyBody']\n",
      "Saved extracted_images/image_49.jpg\n",
      "Label: 1.0, Text: [b'enemyHead' b'enemyBody']\n",
      "Saved extracted_images/image_50.jpg\n",
      "Label: 1.0, Text: [b'enemyHead' b'enemyBody']\n",
      "Saved extracted_images/image_51.jpg\n",
      "Label: 1.0, Text: [b'enemyHead' b'enemyBody']\n",
      "Saved extracted_images/image_52.jpg\n",
      "Label: 1.0, Text: [b'enemyHead' b'enemyBody']\n",
      "Saved extracted_images/image_53.jpg\n",
      "Label: 0.0, Text: []\n",
      "Saved extracted_images/image_54.jpg\n",
      "Label: 1.0, Text: [b'enemyHead' b'enemyBody']\n",
      "Saved extracted_images/image_55.jpg\n",
      "Label: 1.0, Text: [b'enemyHead' b'enemyBody']\n",
      "Saved extracted_images/image_56.jpg\n",
      "Label: 1.0, Text: [b'enemyHead' b'enemyBody']\n",
      "Saved extracted_images/image_57.jpg\n",
      "Label: 0.0, Text: []\n",
      "Saved extracted_images/image_58.jpg\n",
      "Label: 1.0, Text: [b'enemyHead' b'enemyBody']\n",
      "Saved extracted_images/image_59.jpg\n",
      "Label: 1.0, Text: [b'enemyHead' b'enemyBody']\n",
      "Saved extracted_images/image_60.jpg\n",
      "Label: 1.0, Text: [b'enemyHead' b'enemyBody']\n",
      "Saved extracted_images/image_61.jpg\n",
      "Label: 1.0, Text: [b'enemyHead' b'enemyBody']\n",
      "Saved extracted_images/image_62.jpg\n",
      "Label: 1.0, Text: [b'enemyHead' b'enemyBody']\n",
      "Saved extracted_images/image_63.jpg\n",
      "Label: 1.0, Text: [b'enemyHead' b'enemyBody']\n",
      "Saved extracted_images/image_64.jpg\n",
      "Label: 1.0, Text: [b'enemyHead' b'enemyBody']\n",
      "Saved extracted_images/image_65.jpg\n",
      "Label: 1.0, Text: [b'enemyHead' b'enemyBody']\n",
      "Saved extracted_images/image_66.jpg\n",
      "Label: 1.0, Text: [b'enemyHead' b'enemyBody']\n",
      "Saved extracted_images/image_67.jpg\n",
      "Label: 1.0, Text: [b'enemyHead' b'enemyBody']\n",
      "Saved extracted_images/image_68.jpg\n",
      "Label: 1.0, Text: [b'enemyHead' b'enemyBody']\n",
      "Saved extracted_images/image_69.jpg\n",
      "Label: 1.0, Text: [b'enemyHead' b'enemyBody']\n",
      "Saved extracted_images/image_70.jpg\n",
      "Label: 1.0, Text: [b'enemyHead' b'enemyBody']\n",
      "Saved extracted_images/image_71.jpg\n",
      "Label: 1.0, Text: [b'enemyHead' b'enemyBody']\n"
     ]
    },
    {
     "name": "stderr",
     "output_type": "stream",
     "text": [
      "2024-03-24 19:32:54.136083: W tensorflow/core/framework/local_rendezvous.cc:404] Local rendezvous is aborting with status: OUT_OF_RANGE: End of sequence\n"
     ]
    }
   ],
   "source": [
    "from functools import partial\n",
    "\n",
    "keys_to_features = {\n",
    "    'image/encoded': tf.io.FixedLenFeature([], tf.string),\n",
    "    'image/object/class/text': tf.io.VarLenFeature(tf.string),\n",
    "    'image/object/class/label': tf.io.VarLenFeature(tf.int64),\n",
    "}\n",
    "\n",
    "def _parse_function(proto, returnText=False):\n",
    "    # Load one example\n",
    "    parsed_features = tf.io.parse_single_example(proto, keys_to_features)\n",
    "    \n",
    "    # Decode the image\n",
    "    image = tf.image.decode_jpeg(parsed_features['image/encoded'], channels=3)\n",
    "    image = tf.image.resize(image, [416, 416])\n",
    "    image = image / 255.0  # Normalize pixel values\n",
    "    \n",
    "    # Convert sparse tensor to dense, handling multiple entries if necessary\n",
    "    label = tf.sparse.to_dense(parsed_features['image/object/class/label'])\n",
    "    text = tf.sparse.to_dense(parsed_features['image/object/class/text'])\n",
    "\n",
    "    # Decode bytes to string for text\n",
    "    text = tf.cast(text, tf.string)\n",
    "    \n",
    "    # Check if the label contains '2', and set label to True in that case\n",
    "    contains_label_2 = tf.reduce_any(tf.equal(label, 2))\n",
    "    label = tf.cast(contains_label_2, tf.float32)  # Convert boolean to float (1.0 for True, 0.0 for False)\n",
    "\n",
    "    if returnText:\n",
    "        return image, label, text\n",
    "    return image, label\n",
    "\n",
    "def save_images(dataset):\n",
    "    parseFunction = partial(_parse_function, returnText=True)\n",
    "    # Map the dataset to parse the features\n",
    "    images = dataset.map(parseFunction)\n",
    "    \n",
    "    # Directory to save the extracted images\n",
    "    output_dir = 'extracted_images'\n",
    "    os.makedirs(output_dir, exist_ok=True)\n",
    "                \n",
    "    # Iterate over each example\n",
    "    for i, (image_tensor, label_tensor, text_tensor) in enumerate(images):\n",
    "        # Save the image\n",
    "        image_path = os.path.join(output_dir, f'image_{i}.jpg')\n",
    "        # tf.io.write_file(image_path, tf.image.encode_jpeg(image_tensor))\n",
    "        print(f'Saved {image_path}')\n",
    "        print(f'Label: {label_tensor.numpy()}, Text: {text_tensor.numpy()}')\n",
    "save_images(valid_dataset)"
   ],
   "metadata": {
    "collapsed": false,
    "ExecuteTime": {
     "end_time": "2024-03-24T23:32:54.156704Z",
     "start_time": "2024-03-24T23:32:53.854613Z"
    }
   },
   "id": "3fd1387242be8584",
   "execution_count": 68
  },
  {
   "cell_type": "code",
   "outputs": [
    {
     "data": {
      "text/plain": "\u001B[1mModel: \"sequential_13\"\u001B[0m\n",
      "text/html": "<pre style=\"white-space:pre;overflow-x:auto;line-height:normal;font-family:Menlo,'DejaVu Sans Mono',consolas,'Courier New',monospace\"><span style=\"font-weight: bold\">Model: \"sequential_13\"</span>\n</pre>\n"
     },
     "metadata": {},
     "output_type": "display_data"
    },
    {
     "data": {
      "text/plain": "┏━━━━━━━━━━━━━━━━━━━━━━━━━━━━━━━━━┳━━━━━━━━━━━━━━━━━━━━━━━━┳━━━━━━━━━━━━━━━┓\n┃\u001B[1m \u001B[0m\u001B[1mLayer (type)                   \u001B[0m\u001B[1m \u001B[0m┃\u001B[1m \u001B[0m\u001B[1mOutput Shape          \u001B[0m\u001B[1m \u001B[0m┃\u001B[1m \u001B[0m\u001B[1m      Param #\u001B[0m\u001B[1m \u001B[0m┃\n┡━━━━━━━━━━━━━━━━━━━━━━━━━━━━━━━━━╇━━━━━━━━━━━━━━━━━━━━━━━━╇━━━━━━━━━━━━━━━┩\n│ conv2d_7 (\u001B[38;5;33mConv2D\u001B[0m)               │ (\u001B[38;5;45mNone\u001B[0m, \u001B[38;5;34m416\u001B[0m, \u001B[38;5;34m416\u001B[0m, \u001B[38;5;34m64\u001B[0m)   │         \u001B[38;5;34m1,792\u001B[0m │\n├─────────────────────────────────┼────────────────────────┼───────────────┤\n│ max_pooling2d_7 (\u001B[38;5;33mMaxPooling2D\u001B[0m)  │ (\u001B[38;5;45mNone\u001B[0m, \u001B[38;5;34m208\u001B[0m, \u001B[38;5;34m208\u001B[0m, \u001B[38;5;34m64\u001B[0m)   │             \u001B[38;5;34m0\u001B[0m │\n├─────────────────────────────────┼────────────────────────┼───────────────┤\n│ flatten_13 (\u001B[38;5;33mFlatten\u001B[0m)            │ (\u001B[38;5;45mNone\u001B[0m, \u001B[38;5;34m2768896\u001B[0m)        │             \u001B[38;5;34m0\u001B[0m │\n├─────────────────────────────────┼────────────────────────┼───────────────┤\n│ dropout_6 (\u001B[38;5;33mDropout\u001B[0m)             │ (\u001B[38;5;45mNone\u001B[0m, \u001B[38;5;34m2768896\u001B[0m)        │             \u001B[38;5;34m0\u001B[0m │\n├─────────────────────────────────┼────────────────────────┼───────────────┤\n│ dense_13 (\u001B[38;5;33mDense\u001B[0m)                │ (\u001B[38;5;45mNone\u001B[0m, \u001B[38;5;34m1\u001B[0m)              │     \u001B[38;5;34m2,768,897\u001B[0m │\n└─────────────────────────────────┴────────────────────────┴───────────────┘\n",
      "text/html": "<pre style=\"white-space:pre;overflow-x:auto;line-height:normal;font-family:Menlo,'DejaVu Sans Mono',consolas,'Courier New',monospace\">┏━━━━━━━━━━━━━━━━━━━━━━━━━━━━━━━━━┳━━━━━━━━━━━━━━━━━━━━━━━━┳━━━━━━━━━━━━━━━┓\n┃<span style=\"font-weight: bold\"> Layer (type)                    </span>┃<span style=\"font-weight: bold\"> Output Shape           </span>┃<span style=\"font-weight: bold\">       Param # </span>┃\n┡━━━━━━━━━━━━━━━━━━━━━━━━━━━━━━━━━╇━━━━━━━━━━━━━━━━━━━━━━━━╇━━━━━━━━━━━━━━━┩\n│ conv2d_7 (<span style=\"color: #0087ff; text-decoration-color: #0087ff\">Conv2D</span>)               │ (<span style=\"color: #00d7ff; text-decoration-color: #00d7ff\">None</span>, <span style=\"color: #00af00; text-decoration-color: #00af00\">416</span>, <span style=\"color: #00af00; text-decoration-color: #00af00\">416</span>, <span style=\"color: #00af00; text-decoration-color: #00af00\">64</span>)   │         <span style=\"color: #00af00; text-decoration-color: #00af00\">1,792</span> │\n├─────────────────────────────────┼────────────────────────┼───────────────┤\n│ max_pooling2d_7 (<span style=\"color: #0087ff; text-decoration-color: #0087ff\">MaxPooling2D</span>)  │ (<span style=\"color: #00d7ff; text-decoration-color: #00d7ff\">None</span>, <span style=\"color: #00af00; text-decoration-color: #00af00\">208</span>, <span style=\"color: #00af00; text-decoration-color: #00af00\">208</span>, <span style=\"color: #00af00; text-decoration-color: #00af00\">64</span>)   │             <span style=\"color: #00af00; text-decoration-color: #00af00\">0</span> │\n├─────────────────────────────────┼────────────────────────┼───────────────┤\n│ flatten_13 (<span style=\"color: #0087ff; text-decoration-color: #0087ff\">Flatten</span>)            │ (<span style=\"color: #00d7ff; text-decoration-color: #00d7ff\">None</span>, <span style=\"color: #00af00; text-decoration-color: #00af00\">2768896</span>)        │             <span style=\"color: #00af00; text-decoration-color: #00af00\">0</span> │\n├─────────────────────────────────┼────────────────────────┼───────────────┤\n│ dropout_6 (<span style=\"color: #0087ff; text-decoration-color: #0087ff\">Dropout</span>)             │ (<span style=\"color: #00d7ff; text-decoration-color: #00d7ff\">None</span>, <span style=\"color: #00af00; text-decoration-color: #00af00\">2768896</span>)        │             <span style=\"color: #00af00; text-decoration-color: #00af00\">0</span> │\n├─────────────────────────────────┼────────────────────────┼───────────────┤\n│ dense_13 (<span style=\"color: #0087ff; text-decoration-color: #0087ff\">Dense</span>)                │ (<span style=\"color: #00d7ff; text-decoration-color: #00d7ff\">None</span>, <span style=\"color: #00af00; text-decoration-color: #00af00\">1</span>)              │     <span style=\"color: #00af00; text-decoration-color: #00af00\">2,768,897</span> │\n└─────────────────────────────────┴────────────────────────┴───────────────┘\n</pre>\n"
     },
     "metadata": {},
     "output_type": "display_data"
    },
    {
     "data": {
      "text/plain": "\u001B[1m Total params: \u001B[0m\u001B[38;5;34m2,770,689\u001B[0m (10.57 MB)\n",
      "text/html": "<pre style=\"white-space:pre;overflow-x:auto;line-height:normal;font-family:Menlo,'DejaVu Sans Mono',consolas,'Courier New',monospace\"><span style=\"font-weight: bold\"> Total params: </span><span style=\"color: #00af00; text-decoration-color: #00af00\">2,770,689</span> (10.57 MB)\n</pre>\n"
     },
     "metadata": {},
     "output_type": "display_data"
    },
    {
     "data": {
      "text/plain": "\u001B[1m Trainable params: \u001B[0m\u001B[38;5;34m2,770,689\u001B[0m (10.57 MB)\n",
      "text/html": "<pre style=\"white-space:pre;overflow-x:auto;line-height:normal;font-family:Menlo,'DejaVu Sans Mono',consolas,'Courier New',monospace\"><span style=\"font-weight: bold\"> Trainable params: </span><span style=\"color: #00af00; text-decoration-color: #00af00\">2,770,689</span> (10.57 MB)\n</pre>\n"
     },
     "metadata": {},
     "output_type": "display_data"
    },
    {
     "data": {
      "text/plain": "\u001B[1m Non-trainable params: \u001B[0m\u001B[38;5;34m0\u001B[0m (0.00 B)\n",
      "text/html": "<pre style=\"white-space:pre;overflow-x:auto;line-height:normal;font-family:Menlo,'DejaVu Sans Mono',consolas,'Courier New',monospace\"><span style=\"font-weight: bold\"> Non-trainable params: </span><span style=\"color: #00af00; text-decoration-color: #00af00\">0</span> (0.00 B)\n</pre>\n"
     },
     "metadata": {},
     "output_type": "display_data"
    }
   ],
   "source": [
    "model = tf.keras.models.Sequential([\n",
    "    tf.keras.layers.Input(shape=(416, 416, 3)),\n",
    "    tf.keras.layers.Conv2D(64, (3, 3), activation='relu', padding='same'),\n",
    "    tf.keras.layers.MaxPooling2D(pool_size=(2, 2), strides=(2, 2)),\n",
    "    tf.keras.layers.Flatten(),\n",
    "    # tf.keras.layers.Dense(4096, activation='relu'),\n",
    "    tf.keras.layers.Dropout(0.5),\n",
    "    tf.keras.layers.Dense(1, activation='sigmoid')\n",
    "])\n",
    "model.compile(optimizer='adam', loss='binary_crossentropy', metrics=['accuracy'])\n",
    "model.summary()"
   ],
   "metadata": {
    "collapsed": false,
    "ExecuteTime": {
     "end_time": "2024-03-24T23:33:22.948535Z",
     "start_time": "2024-03-24T23:33:22.871489Z"
    }
   },
   "id": "ec5dc4b7f104cc68",
   "execution_count": 69
  },
  {
   "cell_type": "code",
   "outputs": [
    {
     "name": "stdout",
     "output_type": "stream",
     "text": [
      "Epoch 1/10\n",
      "\u001B[1m14/14\u001B[0m \u001B[32m━━━━━━━━━━━━━━━━━━━━\u001B[0m\u001B[37m\u001B[0m \u001B[1m56s\u001B[0m 4s/step - accuracy: 0.8247 - loss: 10.3294\n",
      "Epoch 2/10\n"
     ]
    },
    {
     "name": "stderr",
     "output_type": "stream",
     "text": [
      "2024-03-24 19:34:33.437892: W tensorflow/core/framework/local_rendezvous.cc:404] Local rendezvous is aborting with status: OUT_OF_RANGE: End of sequence\n",
      "\t [[{{node IteratorGetNext}}]]\n",
      "/Users/max/anaconda3/envs/CS6476Project/lib/python3.11/contextlib.py:158: UserWarning: Your input ran out of data; interrupting training. Make sure that your dataset or generator can generate at least `steps_per_epoch * epochs` batches. You may need to use the `.repeat()` function when building your dataset.\n",
      "  self.gen.throw(typ, value, traceback)\n"
     ]
    },
    {
     "name": "stdout",
     "output_type": "stream",
     "text": [
      "\u001B[1m14/14\u001B[0m \u001B[32m━━━━━━━━━━━━━━━━━━━━\u001B[0m\u001B[37m\u001B[0m \u001B[1m49s\u001B[0m 3s/step - accuracy: 0.8636 - loss: 1.2670\n",
      "Epoch 3/10\n"
     ]
    },
    {
     "name": "stderr",
     "output_type": "stream",
     "text": [
      "2024-03-24 19:35:21.992289: W tensorflow/core/framework/local_rendezvous.cc:404] Local rendezvous is aborting with status: OUT_OF_RANGE: End of sequence\n",
      "\t [[{{node IteratorGetNext}}]]\n"
     ]
    },
    {
     "name": "stdout",
     "output_type": "stream",
     "text": [
      "\u001B[1m14/14\u001B[0m \u001B[32m━━━━━━━━━━━━━━━━━━━━\u001B[0m\u001B[37m\u001B[0m \u001B[1m49s\u001B[0m 3s/step - accuracy: 0.8969 - loss: 0.4205\n",
      "Epoch 4/10\n"
     ]
    },
    {
     "name": "stderr",
     "output_type": "stream",
     "text": [
      "2024-03-24 19:36:11.474433: W tensorflow/core/framework/local_rendezvous.cc:404] Local rendezvous is aborting with status: OUT_OF_RANGE: End of sequence\n",
      "\t [[{{node IteratorGetNext}}]]\n"
     ]
    },
    {
     "name": "stdout",
     "output_type": "stream",
     "text": [
      "\u001B[1m14/14\u001B[0m \u001B[32m━━━━━━━━━━━━━━━━━━━━\u001B[0m\u001B[37m\u001B[0m \u001B[1m47s\u001B[0m 3s/step - accuracy: 0.8941 - loss: 0.2139\n",
      "Epoch 5/10\n"
     ]
    },
    {
     "name": "stderr",
     "output_type": "stream",
     "text": [
      "2024-03-24 19:36:58.873835: W tensorflow/core/framework/local_rendezvous.cc:404] Local rendezvous is aborting with status: OUT_OF_RANGE: End of sequence\n",
      "\t [[{{node IteratorGetNext}}]]\n"
     ]
    },
    {
     "name": "stdout",
     "output_type": "stream",
     "text": [
      "\u001B[1m14/14\u001B[0m \u001B[32m━━━━━━━━━━━━━━━━━━━━\u001B[0m\u001B[37m\u001B[0m \u001B[1m49s\u001B[0m 3s/step - accuracy: 0.9513 - loss: 0.1331\n",
      "Epoch 6/10\n"
     ]
    },
    {
     "name": "stderr",
     "output_type": "stream",
     "text": [
      "2024-03-24 19:37:48.305742: W tensorflow/core/framework/local_rendezvous.cc:404] Local rendezvous is aborting with status: OUT_OF_RANGE: End of sequence\n",
      "\t [[{{node IteratorGetNext}}]]\n"
     ]
    },
    {
     "name": "stdout",
     "output_type": "stream",
     "text": [
      "\u001B[1m 5/14\u001B[0m \u001B[32m━━━━━━━\u001B[0m\u001B[37m━━━━━━━━━━━━━\u001B[0m \u001B[1m33s\u001B[0m 4s/step - accuracy: 0.9972 - loss: 0.0795"
     ]
    }
   ],
   "source": [
    "batched_train = train_dataset.map(_parse_function).shuffle(1024).batch(32)\n",
    "batched_valid = valid_dataset.map(_parse_function).shuffle(1024).batch(32)\n",
    "\n",
    "history = model.fit(batched_train, epochs=10)"
   ],
   "metadata": {
    "collapsed": false,
    "is_executing": true,
    "ExecuteTime": {
     "start_time": "2024-03-24T23:33:37.121793Z"
    }
   },
   "id": "8e6436b058709d7b",
   "execution_count": null
  },
  {
   "cell_type": "code",
   "outputs": [],
   "source": [
    "train_accuracy = model.evaluate(batched_train)\n",
    "print(\"Training Accuracy:\", train_accuracy)\n",
    "\n",
    "valid_accuracy = model.evaluate(batched_valid)\n",
    "print(\"Validation Accuracy:\", valid_accuracy)\n"
   ],
   "metadata": {
    "collapsed": false,
    "is_executing": true
   },
   "id": "538e7feb5c64c88d",
   "execution_count": null
  },
  {
   "cell_type": "code",
   "outputs": [],
   "source": [],
   "metadata": {
    "collapsed": false
   },
   "id": "a730b174fa7deda3"
  }
 ],
 "metadata": {
  "kernelspec": {
   "display_name": "Python 3",
   "language": "python",
   "name": "python3"
  },
  "language_info": {
   "codemirror_mode": {
    "name": "ipython",
    "version": 2
   },
   "file_extension": ".py",
   "mimetype": "text/x-python",
   "name": "python",
   "nbconvert_exporter": "python",
   "pygments_lexer": "ipython2",
   "version": "2.7.6"
  }
 },
 "nbformat": 4,
 "nbformat_minor": 5
}
