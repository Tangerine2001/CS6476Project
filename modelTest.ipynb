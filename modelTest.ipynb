{
 "cells": [
  {
   "cell_type": "code",
   "execution_count": 1,
   "id": "initial_id",
   "metadata": {
    "collapsed": true,
    "ExecuteTime": {
     "end_time": "2024-04-15T01:28:44.899399Z",
     "start_time": "2024-04-15T01:28:44.864058Z"
    }
   },
   "outputs": [],
   "source": [
    "%load_ext autoreload\n",
    "%autoreload 2"
   ]
  },
  {
   "cell_type": "code",
   "outputs": [
    {
     "name": "stderr",
     "output_type": "stream",
     "text": [
      "2024-04-14 21:28:49.657018: I tensorflow/core/platform/cpu_feature_guard.cc:210] This TensorFlow binary is optimized to use available CPU instructions in performance-critical operations.\n",
      "To enable the following instructions: AVX2 FMA, in other operations, rebuild TensorFlow with the appropriate compiler flags.\n"
     ]
    }
   ],
   "source": [
    "import tensorflow as tf\n",
    "import os\n",
    "import matplotlib.pyplot as plt"
   ],
   "metadata": {
    "collapsed": false,
    "ExecuteTime": {
     "end_time": "2024-04-15T01:28:54.606086Z",
     "start_time": "2024-04-15T01:28:44.904814Z"
    }
   },
   "id": "3f86cd31f300361a",
   "execution_count": 2
  },
  {
   "cell_type": "code",
   "outputs": [],
   "source": [
    "train_file = \"enemyHead_train.tfrecord\"\n",
    "train_dataset = tf.data.TFRecordDataset(train_file)\n",
    "\n",
    "valid_file = \"enemyHead_valid.tfrecord\"\n",
    "valid_dataset = tf.data.TFRecordDataset(valid_file)"
   ],
   "metadata": {
    "collapsed": false,
    "ExecuteTime": {
     "end_time": "2024-04-15T01:28:54.833290Z",
     "start_time": "2024-04-15T01:28:54.610570Z"
    }
   },
   "id": "17ac99bcf2d40f06",
   "execution_count": 3
  },
  {
   "cell_type": "code",
   "outputs": [],
   "source": [
    "# for raw_record in dataset.take(10):\n",
    "#     print(repr(raw_record))\n",
    "    "
   ],
   "metadata": {
    "collapsed": false,
    "ExecuteTime": {
     "end_time": "2024-04-15T01:29:08.464446Z",
     "start_time": "2024-04-15T01:29:06.035912Z"
    }
   },
   "id": "d06c4326c0a6e9b6",
   "execution_count": 4
  },
  {
   "cell_type": "code",
   "outputs": [
    {
     "name": "stdout",
     "output_type": "stream",
     "text": [
      "Saved extracted_images/image_0.jpg\n",
      "Label: 1.0, Text: [b'enemyHead']\n",
      "Saved extracted_images/image_1.jpg\n",
      "Label: 1.0, Text: [b'enemyHead' b'enemyBody']\n",
      "Saved extracted_images/image_2.jpg\n",
      "Label: 1.0, Text: [b'enemyHead' b'enemyBody']\n",
      "Saved extracted_images/image_3.jpg\n",
      "Label: 1.0, Text: [b'enemyHead']\n",
      "Saved extracted_images/image_4.jpg\n",
      "Label: 1.0, Text: [b'enemyHead' b'enemyBody']\n",
      "Saved extracted_images/image_5.jpg\n",
      "Label: 1.0, Text: [b'enemyHead' b'enemyBody']\n",
      "Saved extracted_images/image_6.jpg\n",
      "Label: 1.0, Text: [b'enemyHead' b'enemyBody']\n",
      "Saved extracted_images/image_7.jpg\n",
      "Label: 1.0, Text: [b'enemyHead' b'enemyBody']\n",
      "Saved extracted_images/image_8.jpg\n",
      "Label: 1.0, Text: [b'enemyHead' b'enemyBody']\n",
      "Saved extracted_images/image_9.jpg\n",
      "Label: 1.0, Text: [b'enemyHead' b'enemyBody']\n",
      "Saved extracted_images/image_10.jpg\n",
      "Label: 1.0, Text: [b'enemyHead' b'enemyBody']\n",
      "Saved extracted_images/image_11.jpg\n",
      "Label: 1.0, Text: [b'enemyHead' b'enemyBody']\n",
      "Saved extracted_images/image_12.jpg\n",
      "Label: 1.0, Text: [b'enemyHead' b'enemyBody']\n",
      "Saved extracted_images/image_13.jpg\n",
      "Label: 1.0, Text: [b'enemyHead' b'enemyBody' b'enemyHead' b'enemyBody']\n",
      "Saved extracted_images/image_14.jpg\n",
      "Label: 1.0, Text: [b'enemyHead' b'enemyBody']\n",
      "Saved extracted_images/image_15.jpg\n",
      "Label: 1.0, Text: [b'enemyHead']\n",
      "Saved extracted_images/image_16.jpg\n",
      "Label: 1.0, Text: [b'enemyHead' b'enemyBody']\n",
      "Saved extracted_images/image_17.jpg\n",
      "Label: 0.0, Text: [b'enemyBody']\n",
      "Saved extracted_images/image_18.jpg\n",
      "Label: 1.0, Text: [b'enemyHead' b'enemyBody' b'enemyHead' b'enemyBody']\n",
      "Saved extracted_images/image_19.jpg\n",
      "Label: 1.0, Text: [b'enemyHead' b'enemyBody']\n",
      "Saved extracted_images/image_20.jpg\n",
      "Label: 1.0, Text: [b'enemyHead' b'enemyBody']\n",
      "Saved extracted_images/image_21.jpg\n",
      "Label: 1.0, Text: [b'enemyHead' b'enemyBody']\n",
      "Saved extracted_images/image_22.jpg\n",
      "Label: 1.0, Text: [b'enemyHead' b'enemyBody']\n",
      "Saved extracted_images/image_23.jpg\n",
      "Label: 1.0, Text: [b'enemyHead' b'enemyBody']\n",
      "Saved extracted_images/image_24.jpg\n",
      "Label: 1.0, Text: [b'enemyHead' b'enemyBody']\n",
      "Saved extracted_images/image_25.jpg\n",
      "Label: 1.0, Text: [b'enemyHead' b'enemyBody']\n",
      "Saved extracted_images/image_26.jpg\n",
      "Label: 1.0, Text: [b'enemyHead' b'enemyBody']\n",
      "Saved extracted_images/image_27.jpg\n",
      "Label: 1.0, Text: [b'enemyHead' b'enemyBody']\n",
      "Saved extracted_images/image_28.jpg\n",
      "Label: 1.0, Text: [b'enemyHead' b'enemyBody']\n",
      "Saved extracted_images/image_29.jpg\n",
      "Label: 1.0, Text: [b'enemyHead' b'enemyBody']\n",
      "Saved extracted_images/image_30.jpg\n",
      "Label: 1.0, Text: [b'enemyHead' b'enemyBody']\n",
      "Saved extracted_images/image_31.jpg\n",
      "Label: 1.0, Text: [b'enemyHead' b'enemyBody']\n",
      "Saved extracted_images/image_32.jpg\n",
      "Label: 1.0, Text: [b'enemyHead' b'enemyBody']\n",
      "Saved extracted_images/image_33.jpg\n",
      "Label: 1.0, Text: [b'enemyHead' b'enemyBody']\n",
      "Saved extracted_images/image_34.jpg\n",
      "Label: 1.0, Text: [b'enemyHead' b'enemyBody']\n",
      "Saved extracted_images/image_35.jpg\n",
      "Label: 1.0, Text: [b'enemyHead' b'enemyBody']\n",
      "Saved extracted_images/image_36.jpg\n",
      "Label: 1.0, Text: [b'enemyHead' b'enemyBody']\n",
      "Saved extracted_images/image_37.jpg\n",
      "Label: 1.0, Text: [b'enemyHead' b'enemyBody']\n",
      "Saved extracted_images/image_38.jpg\n",
      "Label: 1.0, Text: [b'enemyHead' b'enemyBody']\n",
      "Saved extracted_images/image_39.jpg\n",
      "Label: 1.0, Text: [b'enemyHead' b'enemyBody']\n",
      "Saved extracted_images/image_40.jpg\n",
      "Label: 1.0, Text: [b'enemyHead' b'enemyBody']\n",
      "Saved extracted_images/image_41.jpg\n",
      "Label: 1.0, Text: [b'enemyHead' b'enemyBody']\n",
      "Saved extracted_images/image_42.jpg\n",
      "Label: 0.0, Text: []\n",
      "Saved extracted_images/image_43.jpg\n",
      "Label: 0.0, Text: []\n",
      "Saved extracted_images/image_44.jpg\n",
      "Label: 1.0, Text: [b'enemyHead' b'enemyBody']\n",
      "Saved extracted_images/image_45.jpg\n",
      "Label: 1.0, Text: [b'enemyHead' b'enemyBody']\n",
      "Saved extracted_images/image_46.jpg\n",
      "Label: 1.0, Text: [b'enemyHead' b'enemyBody']\n",
      "Saved extracted_images/image_47.jpg\n",
      "Label: 1.0, Text: [b'enemyHead' b'enemyBody']\n",
      "Saved extracted_images/image_48.jpg\n",
      "Label: 1.0, Text: [b'enemyHead' b'enemyBody']\n",
      "Saved extracted_images/image_49.jpg\n",
      "Label: 1.0, Text: [b'enemyHead' b'enemyBody']\n",
      "Saved extracted_images/image_50.jpg\n",
      "Label: 1.0, Text: [b'enemyHead' b'enemyBody']\n",
      "Saved extracted_images/image_51.jpg\n",
      "Label: 1.0, Text: [b'enemyHead' b'enemyBody']\n",
      "Saved extracted_images/image_52.jpg\n",
      "Label: 1.0, Text: [b'enemyHead' b'enemyBody']\n",
      "Saved extracted_images/image_53.jpg\n",
      "Label: 0.0, Text: []\n",
      "Saved extracted_images/image_54.jpg\n",
      "Label: 1.0, Text: [b'enemyHead' b'enemyBody']\n",
      "Saved extracted_images/image_55.jpg\n",
      "Label: 1.0, Text: [b'enemyHead' b'enemyBody']\n",
      "Saved extracted_images/image_56.jpg\n",
      "Label: 1.0, Text: [b'enemyHead' b'enemyBody']\n",
      "Saved extracted_images/image_57.jpg\n",
      "Label: 0.0, Text: []\n",
      "Saved extracted_images/image_58.jpg\n",
      "Label: 1.0, Text: [b'enemyHead' b'enemyBody']\n",
      "Saved extracted_images/image_59.jpg\n",
      "Label: 1.0, Text: [b'enemyHead' b'enemyBody']\n",
      "Saved extracted_images/image_60.jpg\n",
      "Label: 1.0, Text: [b'enemyHead' b'enemyBody']\n",
      "Saved extracted_images/image_61.jpg\n",
      "Label: 1.0, Text: [b'enemyHead' b'enemyBody']\n",
      "Saved extracted_images/image_62.jpg\n",
      "Label: 1.0, Text: [b'enemyHead' b'enemyBody']\n",
      "Saved extracted_images/image_63.jpg\n",
      "Label: 1.0, Text: [b'enemyHead' b'enemyBody']\n",
      "Saved extracted_images/image_64.jpg\n",
      "Label: 1.0, Text: [b'enemyHead' b'enemyBody']\n",
      "Saved extracted_images/image_65.jpg\n",
      "Label: 1.0, Text: [b'enemyHead' b'enemyBody']\n",
      "Saved extracted_images/image_66.jpg\n",
      "Label: 1.0, Text: [b'enemyHead' b'enemyBody']\n",
      "Saved extracted_images/image_67.jpg\n",
      "Label: 1.0, Text: [b'enemyHead' b'enemyBody']\n",
      "Saved extracted_images/image_68.jpg\n",
      "Label: 1.0, Text: [b'enemyHead' b'enemyBody']\n",
      "Saved extracted_images/image_69.jpg\n",
      "Label: 1.0, Text: [b'enemyHead' b'enemyBody']\n",
      "Saved extracted_images/image_70.jpg\n",
      "Label: 1.0, Text: [b'enemyHead' b'enemyBody']\n",
      "Saved extracted_images/image_71.jpg\n",
      "Label: 1.0, Text: [b'enemyHead' b'enemyBody']\n"
     ]
    },
    {
     "name": "stderr",
     "output_type": "stream",
     "text": [
      "2024-04-15 12:51:44.001942: W tensorflow/core/framework/local_rendezvous.cc:404] Local rendezvous is aborting with status: OUT_OF_RANGE: End of sequence\n"
     ]
    }
   ],
   "source": [
    "from functools import partial\n",
    "\n",
    "keys_to_features = {\n",
    "    'image/encoded': tf.io.FixedLenFeature([], tf.string),\n",
    "    'image/object/class/text': tf.io.VarLenFeature(tf.string),\n",
    "    'image/object/class/label': tf.io.VarLenFeature(tf.int64),\n",
    "}\n",
    "\n",
    "def _parse_function(proto, returnText=False):\n",
    "    # Load one example\n",
    "    parsed_features = tf.io.parse_single_example(proto, keys_to_features)\n",
    "    \n",
    "    # Decode the image\n",
    "    image = tf.image.decode_jpeg(parsed_features['image/encoded'], channels=3)\n",
    "    image = tf.image.resize(image, [416, 416])\n",
    "    image = image / 255.0  # Normalize pixel values\n",
    "    \n",
    "    # Convert sparse tensor to dense, handling multiple entries if necessary\n",
    "    label = tf.sparse.to_dense(parsed_features['image/object/class/label'])\n",
    "    text = tf.sparse.to_dense(parsed_features['image/object/class/text'])\n",
    "\n",
    "    # Decode bytes to string for text\n",
    "    text = tf.cast(text, tf.string)\n",
    "    \n",
    "    # Check if the label contains '2', and set label to True in that case\n",
    "    contains_label_2 = tf.reduce_any(tf.equal(label, 2))\n",
    "    label = tf.cast(contains_label_2, tf.float32)  # Convert boolean to float (1.0 for True, 0.0 for False)\n",
    "\n",
    "    if returnText:\n",
    "        return image, label, text\n",
    "    return image, label\n",
    "\n",
    "def save_images(dataset):\n",
    "    parseFunction = partial(_parse_function, returnText=True)\n",
    "    # Map the dataset to parse the features\n",
    "    images = dataset.map(parseFunction)\n",
    "    \n",
    "    # Directory to save the extracted images\n",
    "    output_dir = 'extracted_images'\n",
    "    os.makedirs(output_dir, exist_ok=True)\n",
    "                \n",
    "    # Iterate over each example\n",
    "    for i, (image_tensor, label_tensor, text_tensor) in enumerate(images):\n",
    "        # Save the image\n",
    "        image_path = os.path.join(output_dir, f'image_{i}.jpg')\n",
    "        # tf.io.write_file(image_path, tf.image.encode_jpeg(image_tensor))\n",
    "        print(f'Saved {image_path}')\n",
    "        print(f'Label: {label_tensor.numpy()}, Text: {text_tensor.numpy()}')\n",
    "save_images(valid_dataset)"
   ],
   "metadata": {
    "collapsed": false,
    "ExecuteTime": {
     "end_time": "2024-04-15T16:51:44.010772Z",
     "start_time": "2024-04-15T16:51:43.814661Z"
    }
   },
   "id": "3fd1387242be8584",
   "execution_count": 21
  },
  {
   "cell_type": "code",
   "outputs": [
    {
     "data": {
      "text/plain": "\u001B[1mModel: \"sequential_3\"\u001B[0m\n",
      "text/html": "<pre style=\"white-space:pre;overflow-x:auto;line-height:normal;font-family:Menlo,'DejaVu Sans Mono',consolas,'Courier New',monospace\"><span style=\"font-weight: bold\">Model: \"sequential_3\"</span>\n</pre>\n"
     },
     "metadata": {},
     "output_type": "display_data"
    },
    {
     "data": {
      "text/plain": "┏━━━━━━━━━━━━━━━━━━━━━━━━━━━━━━━━━┳━━━━━━━━━━━━━━━━━━━━━━━━┳━━━━━━━━━━━━━━━┓\n┃\u001B[1m \u001B[0m\u001B[1mLayer (type)                   \u001B[0m\u001B[1m \u001B[0m┃\u001B[1m \u001B[0m\u001B[1mOutput Shape          \u001B[0m\u001B[1m \u001B[0m┃\u001B[1m \u001B[0m\u001B[1m      Param #\u001B[0m\u001B[1m \u001B[0m┃\n┡━━━━━━━━━━━━━━━━━━━━━━━━━━━━━━━━━╇━━━━━━━━━━━━━━━━━━━━━━━━╇━━━━━━━━━━━━━━━┩\n│ conv2d_1 (\u001B[38;5;33mConv2D\u001B[0m)               │ (\u001B[38;5;45mNone\u001B[0m, \u001B[38;5;34m416\u001B[0m, \u001B[38;5;34m416\u001B[0m, \u001B[38;5;34m64\u001B[0m)   │         \u001B[38;5;34m1,792\u001B[0m │\n├─────────────────────────────────┼────────────────────────┼───────────────┤\n│ max_pooling2d_1 (\u001B[38;5;33mMaxPooling2D\u001B[0m)  │ (\u001B[38;5;45mNone\u001B[0m, \u001B[38;5;34m208\u001B[0m, \u001B[38;5;34m208\u001B[0m, \u001B[38;5;34m64\u001B[0m)   │             \u001B[38;5;34m0\u001B[0m │\n├─────────────────────────────────┼────────────────────────┼───────────────┤\n│ flatten_1 (\u001B[38;5;33mFlatten\u001B[0m)             │ (\u001B[38;5;45mNone\u001B[0m, \u001B[38;5;34m2768896\u001B[0m)        │             \u001B[38;5;34m0\u001B[0m │\n├─────────────────────────────────┼────────────────────────┼───────────────┤\n│ dropout_1 (\u001B[38;5;33mDropout\u001B[0m)             │ (\u001B[38;5;45mNone\u001B[0m, \u001B[38;5;34m2768896\u001B[0m)        │             \u001B[38;5;34m0\u001B[0m │\n├─────────────────────────────────┼────────────────────────┼───────────────┤\n│ dense_3 (\u001B[38;5;33mDense\u001B[0m)                 │ (\u001B[38;5;45mNone\u001B[0m, \u001B[38;5;34m1\u001B[0m)              │     \u001B[38;5;34m2,768,897\u001B[0m │\n└─────────────────────────────────┴────────────────────────┴───────────────┘\n",
      "text/html": "<pre style=\"white-space:pre;overflow-x:auto;line-height:normal;font-family:Menlo,'DejaVu Sans Mono',consolas,'Courier New',monospace\">┏━━━━━━━━━━━━━━━━━━━━━━━━━━━━━━━━━┳━━━━━━━━━━━━━━━━━━━━━━━━┳━━━━━━━━━━━━━━━┓\n┃<span style=\"font-weight: bold\"> Layer (type)                    </span>┃<span style=\"font-weight: bold\"> Output Shape           </span>┃<span style=\"font-weight: bold\">       Param # </span>┃\n┡━━━━━━━━━━━━━━━━━━━━━━━━━━━━━━━━━╇━━━━━━━━━━━━━━━━━━━━━━━━╇━━━━━━━━━━━━━━━┩\n│ conv2d_1 (<span style=\"color: #0087ff; text-decoration-color: #0087ff\">Conv2D</span>)               │ (<span style=\"color: #00d7ff; text-decoration-color: #00d7ff\">None</span>, <span style=\"color: #00af00; text-decoration-color: #00af00\">416</span>, <span style=\"color: #00af00; text-decoration-color: #00af00\">416</span>, <span style=\"color: #00af00; text-decoration-color: #00af00\">64</span>)   │         <span style=\"color: #00af00; text-decoration-color: #00af00\">1,792</span> │\n├─────────────────────────────────┼────────────────────────┼───────────────┤\n│ max_pooling2d_1 (<span style=\"color: #0087ff; text-decoration-color: #0087ff\">MaxPooling2D</span>)  │ (<span style=\"color: #00d7ff; text-decoration-color: #00d7ff\">None</span>, <span style=\"color: #00af00; text-decoration-color: #00af00\">208</span>, <span style=\"color: #00af00; text-decoration-color: #00af00\">208</span>, <span style=\"color: #00af00; text-decoration-color: #00af00\">64</span>)   │             <span style=\"color: #00af00; text-decoration-color: #00af00\">0</span> │\n├─────────────────────────────────┼────────────────────────┼───────────────┤\n│ flatten_1 (<span style=\"color: #0087ff; text-decoration-color: #0087ff\">Flatten</span>)             │ (<span style=\"color: #00d7ff; text-decoration-color: #00d7ff\">None</span>, <span style=\"color: #00af00; text-decoration-color: #00af00\">2768896</span>)        │             <span style=\"color: #00af00; text-decoration-color: #00af00\">0</span> │\n├─────────────────────────────────┼────────────────────────┼───────────────┤\n│ dropout_1 (<span style=\"color: #0087ff; text-decoration-color: #0087ff\">Dropout</span>)             │ (<span style=\"color: #00d7ff; text-decoration-color: #00d7ff\">None</span>, <span style=\"color: #00af00; text-decoration-color: #00af00\">2768896</span>)        │             <span style=\"color: #00af00; text-decoration-color: #00af00\">0</span> │\n├─────────────────────────────────┼────────────────────────┼───────────────┤\n│ dense_3 (<span style=\"color: #0087ff; text-decoration-color: #0087ff\">Dense</span>)                 │ (<span style=\"color: #00d7ff; text-decoration-color: #00d7ff\">None</span>, <span style=\"color: #00af00; text-decoration-color: #00af00\">1</span>)              │     <span style=\"color: #00af00; text-decoration-color: #00af00\">2,768,897</span> │\n└─────────────────────────────────┴────────────────────────┴───────────────┘\n</pre>\n"
     },
     "metadata": {},
     "output_type": "display_data"
    },
    {
     "data": {
      "text/plain": "\u001B[1m Total params: \u001B[0m\u001B[38;5;34m2,770,689\u001B[0m (10.57 MB)\n",
      "text/html": "<pre style=\"white-space:pre;overflow-x:auto;line-height:normal;font-family:Menlo,'DejaVu Sans Mono',consolas,'Courier New',monospace\"><span style=\"font-weight: bold\"> Total params: </span><span style=\"color: #00af00; text-decoration-color: #00af00\">2,770,689</span> (10.57 MB)\n</pre>\n"
     },
     "metadata": {},
     "output_type": "display_data"
    },
    {
     "data": {
      "text/plain": "\u001B[1m Trainable params: \u001B[0m\u001B[38;5;34m2,770,689\u001B[0m (10.57 MB)\n",
      "text/html": "<pre style=\"white-space:pre;overflow-x:auto;line-height:normal;font-family:Menlo,'DejaVu Sans Mono',consolas,'Courier New',monospace\"><span style=\"font-weight: bold\"> Trainable params: </span><span style=\"color: #00af00; text-decoration-color: #00af00\">2,770,689</span> (10.57 MB)\n</pre>\n"
     },
     "metadata": {},
     "output_type": "display_data"
    },
    {
     "data": {
      "text/plain": "\u001B[1m Non-trainable params: \u001B[0m\u001B[38;5;34m0\u001B[0m (0.00 B)\n",
      "text/html": "<pre style=\"white-space:pre;overflow-x:auto;line-height:normal;font-family:Menlo,'DejaVu Sans Mono',consolas,'Courier New',monospace\"><span style=\"font-weight: bold\"> Non-trainable params: </span><span style=\"color: #00af00; text-decoration-color: #00af00\">0</span> (0.00 B)\n</pre>\n"
     },
     "metadata": {},
     "output_type": "display_data"
    }
   ],
   "source": [
    "model = tf.keras.models.Sequential([\n",
    "    tf.keras.layers.Input(shape=(416, 416, 3)),\n",
    "    tf.keras.layers.Conv2D(64, (3, 3), activation='relu', padding='same'),\n",
    "    tf.keras.layers.MaxPooling2D(pool_size=(2, 2), strides=(2, 2)),\n",
    "    tf.keras.layers.Flatten(),\n",
    "    # tf.keras.layers.Dense(4096, activation='relu'),\n",
    "    tf.keras.layers.Dropout(0.5),\n",
    "    tf.keras.layers.Dense(1, activation='sigmoid')\n",
    "])\n",
    "model.compile(optimizer='adam', loss='binary_crossentropy', metrics=['accuracy'])\n",
    "model.summary()"
   ],
   "metadata": {
    "collapsed": false,
    "ExecuteTime": {
     "end_time": "2024-04-15T16:51:44.823072Z",
     "start_time": "2024-04-15T16:51:44.669749Z"
    }
   },
   "id": "ec5dc4b7f104cc68",
   "execution_count": 22
  },
  {
   "cell_type": "code",
   "outputs": [
    {
     "name": "stdout",
     "output_type": "stream",
     "text": [
      "Epoch 1/10\n",
      "\u001B[1m14/14\u001B[0m \u001B[32m━━━━━━━━━━━━━━━━━━━━\u001B[0m\u001B[37m\u001B[0m \u001B[1m56s\u001B[0m 3s/step - accuracy: 0.8386 - loss: 10.6397\n",
      "Epoch 2/10\n"
     ]
    },
    {
     "name": "stderr",
     "output_type": "stream",
     "text": [
      "2024-04-14 21:30:05.608853: W tensorflow/core/framework/local_rendezvous.cc:404] Local rendezvous is aborting with status: OUT_OF_RANGE: End of sequence\n",
      "\t [[{{node IteratorGetNext}}]]\n",
      "/Users/max/anaconda3/envs/CS6476Project/lib/python3.11/contextlib.py:158: UserWarning: Your input ran out of data; interrupting training. Make sure that your dataset or generator can generate at least `steps_per_epoch * epochs` batches. You may need to use the `.repeat()` function when building your dataset.\n",
      "  self.gen.throw(typ, value, traceback)\n"
     ]
    },
    {
     "name": "stdout",
     "output_type": "stream",
     "text": [
      "\u001B[1m14/14\u001B[0m \u001B[32m━━━━━━━━━━━━━━━━━━━━\u001B[0m\u001B[37m\u001B[0m \u001B[1m48s\u001B[0m 3s/step - accuracy: 0.8744 - loss: 2.0065\n",
      "Epoch 3/10\n"
     ]
    },
    {
     "name": "stderr",
     "output_type": "stream",
     "text": [
      "2024-04-14 21:30:53.341946: W tensorflow/core/framework/local_rendezvous.cc:404] Local rendezvous is aborting with status: OUT_OF_RANGE: End of sequence\n",
      "\t [[{{node IteratorGetNext}}]]\n"
     ]
    },
    {
     "name": "stdout",
     "output_type": "stream",
     "text": [
      "\u001B[1m14/14\u001B[0m \u001B[32m━━━━━━━━━━━━━━━━━━━━\u001B[0m\u001B[37m\u001B[0m \u001B[1m47s\u001B[0m 3s/step - accuracy: 0.8997 - loss: 0.2710\n",
      "Epoch 4/10\n"
     ]
    },
    {
     "name": "stderr",
     "output_type": "stream",
     "text": [
      "2024-04-14 21:31:39.976410: W tensorflow/core/framework/local_rendezvous.cc:404] Local rendezvous is aborting with status: OUT_OF_RANGE: End of sequence\n",
      "\t [[{{node IteratorGetNext}}]]\n"
     ]
    },
    {
     "name": "stdout",
     "output_type": "stream",
     "text": [
      "\u001B[1m14/14\u001B[0m \u001B[32m━━━━━━━━━━━━━━━━━━━━\u001B[0m\u001B[37m\u001B[0m \u001B[1m47s\u001B[0m 3s/step - accuracy: 0.9406 - loss: 0.1594\n",
      "Epoch 5/10\n"
     ]
    },
    {
     "name": "stderr",
     "output_type": "stream",
     "text": [
      "2024-04-14 21:32:27.034327: W tensorflow/core/framework/local_rendezvous.cc:404] Local rendezvous is aborting with status: OUT_OF_RANGE: End of sequence\n",
      "\t [[{{node IteratorGetNext}}]]\n"
     ]
    },
    {
     "name": "stdout",
     "output_type": "stream",
     "text": [
      "\u001B[1m14/14\u001B[0m \u001B[32m━━━━━━━━━━━━━━━━━━━━\u001B[0m\u001B[37m\u001B[0m \u001B[1m46s\u001B[0m 3s/step - accuracy: 0.9915 - loss: 0.0651\n",
      "Epoch 6/10\n"
     ]
    },
    {
     "name": "stderr",
     "output_type": "stream",
     "text": [
      "2024-04-14 21:33:13.443880: W tensorflow/core/framework/local_rendezvous.cc:404] Local rendezvous is aborting with status: OUT_OF_RANGE: End of sequence\n",
      "\t [[{{node IteratorGetNext}}]]\n"
     ]
    },
    {
     "name": "stdout",
     "output_type": "stream",
     "text": [
      "\u001B[1m14/14\u001B[0m \u001B[32m━━━━━━━━━━━━━━━━━━━━\u001B[0m\u001B[37m\u001B[0m \u001B[1m46s\u001B[0m 3s/step - accuracy: 0.9800 - loss: 0.0711\n",
      "Epoch 7/10\n"
     ]
    },
    {
     "name": "stderr",
     "output_type": "stream",
     "text": [
      "2024-04-14 21:33:59.759674: W tensorflow/core/framework/local_rendezvous.cc:404] Local rendezvous is aborting with status: OUT_OF_RANGE: End of sequence\n",
      "\t [[{{node IteratorGetNext}}]]\n"
     ]
    },
    {
     "name": "stdout",
     "output_type": "stream",
     "text": [
      "\u001B[1m14/14\u001B[0m \u001B[32m━━━━━━━━━━━━━━━━━━━━\u001B[0m\u001B[37m\u001B[0m \u001B[1m47s\u001B[0m 3s/step - accuracy: 0.9951 - loss: 0.0291\n",
      "Epoch 8/10\n"
     ]
    },
    {
     "name": "stderr",
     "output_type": "stream",
     "text": [
      "2024-04-14 21:34:46.760185: W tensorflow/core/framework/local_rendezvous.cc:404] Local rendezvous is aborting with status: OUT_OF_RANGE: End of sequence\n",
      "\t [[{{node IteratorGetNext}}]]\n"
     ]
    },
    {
     "name": "stdout",
     "output_type": "stream",
     "text": [
      "\u001B[1m14/14\u001B[0m \u001B[32m━━━━━━━━━━━━━━━━━━━━\u001B[0m\u001B[37m\u001B[0m \u001B[1m47s\u001B[0m 3s/step - accuracy: 1.0000 - loss: 0.0136\n",
      "Epoch 9/10\n"
     ]
    },
    {
     "name": "stderr",
     "output_type": "stream",
     "text": [
      "2024-04-14 21:35:33.940166: W tensorflow/core/framework/local_rendezvous.cc:404] Local rendezvous is aborting with status: OUT_OF_RANGE: End of sequence\n",
      "\t [[{{node IteratorGetNext}}]]\n"
     ]
    },
    {
     "name": "stdout",
     "output_type": "stream",
     "text": [
      "\u001B[1m14/14\u001B[0m \u001B[32m━━━━━━━━━━━━━━━━━━━━\u001B[0m\u001B[37m\u001B[0m \u001B[1m47s\u001B[0m 3s/step - accuracy: 1.0000 - loss: 0.0101\n",
      "Epoch 10/10\n"
     ]
    },
    {
     "name": "stderr",
     "output_type": "stream",
     "text": [
      "2024-04-14 21:36:20.930306: W tensorflow/core/framework/local_rendezvous.cc:404] Local rendezvous is aborting with status: OUT_OF_RANGE: End of sequence\n",
      "\t [[{{node IteratorGetNext}}]]\n"
     ]
    },
    {
     "name": "stdout",
     "output_type": "stream",
     "text": [
      "\u001B[1m14/14\u001B[0m \u001B[32m━━━━━━━━━━━━━━━━━━━━\u001B[0m\u001B[37m\u001B[0m \u001B[1m46s\u001B[0m 3s/step - accuracy: 1.0000 - loss: 0.0041\n"
     ]
    },
    {
     "name": "stderr",
     "output_type": "stream",
     "text": [
      "2024-04-14 21:37:07.377406: W tensorflow/core/framework/local_rendezvous.cc:404] Local rendezvous is aborting with status: OUT_OF_RANGE: End of sequence\n",
      "\t [[{{node IteratorGetNext}}]]\n"
     ]
    }
   ],
   "source": [
    "batched_train = train_dataset.map(_parse_function).shuffle(1024).batch(32)\n",
    "batched_valid = valid_dataset.map(_parse_function).shuffle(1024).batch(32)\n",
    "\n",
    "history = model.fit(batched_train, epochs=10)"
   ],
   "metadata": {
    "collapsed": false,
    "ExecuteTime": {
     "end_time": "2024-04-15T01:37:07.395335Z",
     "start_time": "2024-04-15T01:29:09.254962Z"
    }
   },
   "id": "8e6436b058709d7b",
   "execution_count": 7
  },
  {
   "cell_type": "code",
   "outputs": [
    {
     "name": "stdout",
     "output_type": "stream",
     "text": [
      "\u001B[1m14/14\u001B[0m \u001B[32m━━━━━━━━━━━━━━━━━━━━\u001B[0m\u001B[37m\u001B[0m \u001B[1m13s\u001B[0m 863ms/step - accuracy: 1.0000 - loss: 0.0076\n",
      "Training Accuracy: [0.005816842429339886, 1.0]\n"
     ]
    },
    {
     "name": "stderr",
     "output_type": "stream",
     "text": [
      "2024-04-14 21:37:20.019786: W tensorflow/core/framework/local_rendezvous.cc:404] Local rendezvous is aborting with status: OUT_OF_RANGE: End of sequence\n",
      "\t [[{{node IteratorGetNext}}]]\n"
     ]
    },
    {
     "name": "stdout",
     "output_type": "stream",
     "text": [
      "\u001B[1m3/3\u001B[0m \u001B[32m━━━━━━━━━━━━━━━━━━━━\u001B[0m\u001B[37m\u001B[0m \u001B[1m2s\u001B[0m 578ms/step - accuracy: 0.9145 - loss: 0.2902\n",
      "Validation Accuracy: [0.15749137103557587, 0.9305555820465088]\n"
     ]
    },
    {
     "name": "stderr",
     "output_type": "stream",
     "text": [
      "2024-04-14 21:37:22.282637: W tensorflow/core/framework/local_rendezvous.cc:404] Local rendezvous is aborting with status: OUT_OF_RANGE: End of sequence\n",
      "\t [[{{node IteratorGetNext}}]]\n"
     ]
    }
   ],
   "source": [
    "train_accuracy = model.evaluate(batched_train)\n",
    "print(\"Training Accuracy:\", train_accuracy)\n",
    "\n",
    "valid_accuracy = model.evaluate(batched_valid)\n",
    "print(\"Validation Accuracy:\", valid_accuracy)\n"
   ],
   "metadata": {
    "collapsed": false,
    "ExecuteTime": {
     "end_time": "2024-04-15T01:37:22.304431Z",
     "start_time": "2024-04-15T01:37:07.395335Z"
    }
   },
   "id": "538e7feb5c64c88d",
   "execution_count": 8
  },
  {
   "cell_type": "code",
   "outputs": [
    {
     "name": "stderr",
     "output_type": "stream",
     "text": [
      "/var/folders/xl/gsbth_zx5kz5wb2wm4n5p9s40000gn/T/ipykernel_22635/1738588732.py:3: UserWarning: `input_shape` is undefined or non-square, or `rows` is not in [96, 128, 160, 192, 224]. Weights for input shape (224, 224) will be loaded as the default.\n",
      "  pretrained_model = MobileNetV2((416, 416, 3), 0.35, include_top=False, weights='imagenet')\n"
     ]
    },
    {
     "name": "stdout",
     "output_type": "stream",
     "text": [
      "Downloading data from https://storage.googleapis.com/tensorflow/keras-applications/mobilenet_v2/mobilenet_v2_weights_tf_dim_ordering_tf_kernels_0.35_224_no_top.h5\n",
      "\u001B[1m2019640/2019640\u001B[0m \u001B[32m━━━━━━━━━━━━━━━━━━━━\u001B[0m\u001B[37m\u001B[0m \u001B[1m0s\u001B[0m 0us/step\n"
     ]
    }
   ],
   "source": [
    "# Pre-trained network\n",
    "from tensorflow.keras.applications import MobileNetV2\n",
    "\n",
    "pretrained_model = MobileNetV2((416, 416, 3), 0.35, include_top=False, weights='imagenet')\n",
    "\n",
    "\n",
    "model = tf.keras.models.Sequential([\n",
    "    pretrained_model,\n",
    "    tf.keras.layers.GlobalAveragePooling2D(),\n",
    "    tf.keras.layers.Dense(1, activation='sigmoid')\n",
    "])"
   ],
   "metadata": {
    "collapsed": false,
    "ExecuteTime": {
     "end_time": "2024-04-15T16:54:00.417851Z",
     "start_time": "2024-04-15T16:53:58.840260Z"
    }
   },
   "id": "a730b174fa7deda3",
   "execution_count": 24
  },
  {
   "cell_type": "code",
   "outputs": [
    {
     "data": {
      "text/plain": "\u001B[1mModel: \"sequential_4\"\u001B[0m\n",
      "text/html": "<pre style=\"white-space:pre;overflow-x:auto;line-height:normal;font-family:Menlo,'DejaVu Sans Mono',consolas,'Courier New',monospace\"><span style=\"font-weight: bold\">Model: \"sequential_4\"</span>\n</pre>\n"
     },
     "metadata": {},
     "output_type": "display_data"
    },
    {
     "data": {
      "text/plain": "┏━━━━━━━━━━━━━━━━━━━━━━━━━━━━━━━━━┳━━━━━━━━━━━━━━━━━━━━━━━━┳━━━━━━━━━━━━━━━┓\n┃\u001B[1m \u001B[0m\u001B[1mLayer (type)                   \u001B[0m\u001B[1m \u001B[0m┃\u001B[1m \u001B[0m\u001B[1mOutput Shape          \u001B[0m\u001B[1m \u001B[0m┃\u001B[1m \u001B[0m\u001B[1m      Param #\u001B[0m\u001B[1m \u001B[0m┃\n┡━━━━━━━━━━━━━━━━━━━━━━━━━━━━━━━━━╇━━━━━━━━━━━━━━━━━━━━━━━━╇━━━━━━━━━━━━━━━┩\n│ mobilenetv2_0.35_224            │ ?                      │       \u001B[38;5;34m410,208\u001B[0m │\n│ (\u001B[38;5;33mFunctional\u001B[0m)                    │                        │               │\n├─────────────────────────────────┼────────────────────────┼───────────────┤\n│ global_average_pooling2d_3      │ ?                      │   \u001B[38;5;34m0\u001B[0m (unbuilt) │\n│ (\u001B[38;5;33mGlobalAveragePooling2D\u001B[0m)        │                        │               │\n├─────────────────────────────────┼────────────────────────┼───────────────┤\n│ dense_4 (\u001B[38;5;33mDense\u001B[0m)                 │ ?                      │   \u001B[38;5;34m0\u001B[0m (unbuilt) │\n└─────────────────────────────────┴────────────────────────┴───────────────┘\n",
      "text/html": "<pre style=\"white-space:pre;overflow-x:auto;line-height:normal;font-family:Menlo,'DejaVu Sans Mono',consolas,'Courier New',monospace\">┏━━━━━━━━━━━━━━━━━━━━━━━━━━━━━━━━━┳━━━━━━━━━━━━━━━━━━━━━━━━┳━━━━━━━━━━━━━━━┓\n┃<span style=\"font-weight: bold\"> Layer (type)                    </span>┃<span style=\"font-weight: bold\"> Output Shape           </span>┃<span style=\"font-weight: bold\">       Param # </span>┃\n┡━━━━━━━━━━━━━━━━━━━━━━━━━━━━━━━━━╇━━━━━━━━━━━━━━━━━━━━━━━━╇━━━━━━━━━━━━━━━┩\n│ mobilenetv2_0.35_224            │ ?                      │       <span style=\"color: #00af00; text-decoration-color: #00af00\">410,208</span> │\n│ (<span style=\"color: #0087ff; text-decoration-color: #0087ff\">Functional</span>)                    │                        │               │\n├─────────────────────────────────┼────────────────────────┼───────────────┤\n│ global_average_pooling2d_3      │ ?                      │   <span style=\"color: #00af00; text-decoration-color: #00af00\">0</span> (unbuilt) │\n│ (<span style=\"color: #0087ff; text-decoration-color: #0087ff\">GlobalAveragePooling2D</span>)        │                        │               │\n├─────────────────────────────────┼────────────────────────┼───────────────┤\n│ dense_4 (<span style=\"color: #0087ff; text-decoration-color: #0087ff\">Dense</span>)                 │ ?                      │   <span style=\"color: #00af00; text-decoration-color: #00af00\">0</span> (unbuilt) │\n└─────────────────────────────────┴────────────────────────┴───────────────┘\n</pre>\n"
     },
     "metadata": {},
     "output_type": "display_data"
    },
    {
     "data": {
      "text/plain": "\u001B[1m Total params: \u001B[0m\u001B[38;5;34m410,208\u001B[0m (1.56 MB)\n",
      "text/html": "<pre style=\"white-space:pre;overflow-x:auto;line-height:normal;font-family:Menlo,'DejaVu Sans Mono',consolas,'Courier New',monospace\"><span style=\"font-weight: bold\"> Total params: </span><span style=\"color: #00af00; text-decoration-color: #00af00\">410,208</span> (1.56 MB)\n</pre>\n"
     },
     "metadata": {},
     "output_type": "display_data"
    },
    {
     "data": {
      "text/plain": "\u001B[1m Trainable params: \u001B[0m\u001B[38;5;34m396,128\u001B[0m (1.51 MB)\n",
      "text/html": "<pre style=\"white-space:pre;overflow-x:auto;line-height:normal;font-family:Menlo,'DejaVu Sans Mono',consolas,'Courier New',monospace\"><span style=\"font-weight: bold\"> Trainable params: </span><span style=\"color: #00af00; text-decoration-color: #00af00\">396,128</span> (1.51 MB)\n</pre>\n"
     },
     "metadata": {},
     "output_type": "display_data"
    },
    {
     "data": {
      "text/plain": "\u001B[1m Non-trainable params: \u001B[0m\u001B[38;5;34m14,080\u001B[0m (55.00 KB)\n",
      "text/html": "<pre style=\"white-space:pre;overflow-x:auto;line-height:normal;font-family:Menlo,'DejaVu Sans Mono',consolas,'Courier New',monospace\"><span style=\"font-weight: bold\"> Non-trainable params: </span><span style=\"color: #00af00; text-decoration-color: #00af00\">14,080</span> (55.00 KB)\n</pre>\n"
     },
     "metadata": {},
     "output_type": "display_data"
    }
   ],
   "source": [
    "model.compile(optimizer='adam', loss='binary_crossentropy', metrics=['accuracy'])\n",
    "model.summary()"
   ],
   "metadata": {
    "collapsed": false,
    "ExecuteTime": {
     "end_time": "2024-04-15T16:54:05.554512Z",
     "start_time": "2024-04-15T16:54:05.439451Z"
    }
   },
   "id": "c35bde31d6fff162",
   "execution_count": 25
  },
  {
   "cell_type": "code",
   "outputs": [
    {
     "name": "stdout",
     "output_type": "stream",
     "text": [
      "Epoch 1/10\n",
      "\u001B[1m14/14\u001B[0m \u001B[32m━━━━━━━━━━━━━━━━━━━━\u001B[0m\u001B[37m\u001B[0m \u001B[1m154s\u001B[0m 8s/step - accuracy: 0.6808 - loss: 0.5636\n",
      "Epoch 2/10\n"
     ]
    },
    {
     "name": "stderr",
     "output_type": "stream",
     "text": [
      "2024-04-15 12:56:41.802669: W tensorflow/core/framework/local_rendezvous.cc:404] Local rendezvous is aborting with status: OUT_OF_RANGE: End of sequence\n",
      "\t [[{{node IteratorGetNext}}]]\n"
     ]
    },
    {
     "name": "stdout",
     "output_type": "stream",
     "text": [
      "\u001B[1m14/14\u001B[0m \u001B[32m━━━━━━━━━━━━━━━━━━━━\u001B[0m\u001B[37m\u001B[0m \u001B[1m123s\u001B[0m 9s/step - accuracy: 0.9904 - loss: 0.0626\n",
      "Epoch 3/10\n"
     ]
    },
    {
     "name": "stderr",
     "output_type": "stream",
     "text": [
      "2024-04-15 12:58:45.341386: W tensorflow/core/framework/local_rendezvous.cc:404] Local rendezvous is aborting with status: OUT_OF_RANGE: End of sequence\n",
      "\t [[{{node IteratorGetNext}}]]\n"
     ]
    },
    {
     "name": "stdout",
     "output_type": "stream",
     "text": [
      "\u001B[1m14/14\u001B[0m \u001B[32m━━━━━━━━━━━━━━━━━━━━\u001B[0m\u001B[37m\u001B[0m \u001B[1m127s\u001B[0m 9s/step - accuracy: 0.9981 - loss: 0.0136\n",
      "Epoch 4/10\n"
     ]
    },
    {
     "name": "stderr",
     "output_type": "stream",
     "text": [
      "2024-04-15 13:00:52.406058: W tensorflow/core/framework/local_rendezvous.cc:404] Local rendezvous is aborting with status: OUT_OF_RANGE: End of sequence\n",
      "\t [[{{node IteratorGetNext}}]]\n"
     ]
    },
    {
     "name": "stdout",
     "output_type": "stream",
     "text": [
      "\u001B[1m14/14\u001B[0m \u001B[32m━━━━━━━━━━━━━━━━━━━━\u001B[0m\u001B[37m\u001B[0m \u001B[1m138s\u001B[0m 10s/step - accuracy: 1.0000 - loss: 0.0046\n",
      "Epoch 5/10\n"
     ]
    },
    {
     "name": "stderr",
     "output_type": "stream",
     "text": [
      "2024-04-15 13:03:10.590627: W tensorflow/core/framework/local_rendezvous.cc:404] Local rendezvous is aborting with status: OUT_OF_RANGE: End of sequence\n",
      "\t [[{{node IteratorGetNext}}]]\n"
     ]
    },
    {
     "name": "stdout",
     "output_type": "stream",
     "text": [
      "\u001B[1m14/14\u001B[0m \u001B[32m━━━━━━━━━━━━━━━━━━━━\u001B[0m\u001B[37m\u001B[0m \u001B[1m121s\u001B[0m 8s/step - accuracy: 1.0000 - loss: 0.0034\n",
      "Epoch 6/10\n"
     ]
    },
    {
     "name": "stderr",
     "output_type": "stream",
     "text": [
      "2024-04-15 13:05:11.874309: W tensorflow/core/framework/local_rendezvous.cc:404] Local rendezvous is aborting with status: OUT_OF_RANGE: End of sequence\n",
      "\t [[{{node IteratorGetNext}}]]\n"
     ]
    },
    {
     "name": "stdout",
     "output_type": "stream",
     "text": [
      "\u001B[1m14/14\u001B[0m \u001B[32m━━━━━━━━━━━━━━━━━━━━\u001B[0m\u001B[37m\u001B[0m \u001B[1m122s\u001B[0m 8s/step - accuracy: 1.0000 - loss: 0.0012\n",
      "Epoch 7/10\n"
     ]
    },
    {
     "name": "stderr",
     "output_type": "stream",
     "text": [
      "2024-04-15 13:07:13.390682: W tensorflow/core/framework/local_rendezvous.cc:404] Local rendezvous is aborting with status: OUT_OF_RANGE: End of sequence\n",
      "\t [[{{node IteratorGetNext}}]]\n"
     ]
    },
    {
     "name": "stdout",
     "output_type": "stream",
     "text": [
      "\u001B[1m14/14\u001B[0m \u001B[32m━━━━━━━━━━━━━━━━━━━━\u001B[0m\u001B[37m\u001B[0m \u001B[1m118s\u001B[0m 8s/step - accuracy: 1.0000 - loss: 0.0016\n",
      "Epoch 8/10\n"
     ]
    },
    {
     "name": "stderr",
     "output_type": "stream",
     "text": [
      "2024-04-15 13:09:11.089770: W tensorflow/core/framework/local_rendezvous.cc:404] Local rendezvous is aborting with status: OUT_OF_RANGE: End of sequence\n",
      "\t [[{{node IteratorGetNext}}]]\n"
     ]
    },
    {
     "name": "stdout",
     "output_type": "stream",
     "text": [
      "\u001B[1m14/14\u001B[0m \u001B[32m━━━━━━━━━━━━━━━━━━━━\u001B[0m\u001B[37m\u001B[0m \u001B[1m125s\u001B[0m 9s/step - accuracy: 1.0000 - loss: 5.5465e-04\n",
      "Epoch 9/10\n"
     ]
    },
    {
     "name": "stderr",
     "output_type": "stream",
     "text": [
      "2024-04-15 13:11:16.348457: W tensorflow/core/framework/local_rendezvous.cc:404] Local rendezvous is aborting with status: OUT_OF_RANGE: End of sequence\n",
      "\t [[{{node IteratorGetNext}}]]\n"
     ]
    },
    {
     "name": "stdout",
     "output_type": "stream",
     "text": [
      "\u001B[1m14/14\u001B[0m \u001B[32m━━━━━━━━━━━━━━━━━━━━\u001B[0m\u001B[37m\u001B[0m \u001B[1m130s\u001B[0m 9s/step - accuracy: 1.0000 - loss: 4.0838e-04\n",
      "Epoch 10/10\n"
     ]
    },
    {
     "name": "stderr",
     "output_type": "stream",
     "text": [
      "2024-04-15 13:13:26.800548: W tensorflow/core/framework/local_rendezvous.cc:404] Local rendezvous is aborting with status: OUT_OF_RANGE: End of sequence\n",
      "\t [[{{node IteratorGetNext}}]]\n"
     ]
    },
    {
     "name": "stdout",
     "output_type": "stream",
     "text": [
      "\u001B[1m14/14\u001B[0m \u001B[32m━━━━━━━━━━━━━━━━━━━━\u001B[0m\u001B[37m\u001B[0m \u001B[1m119s\u001B[0m 8s/step - accuracy: 1.0000 - loss: 5.5633e-04\n"
     ]
    },
    {
     "name": "stderr",
     "output_type": "stream",
     "text": [
      "2024-04-15 13:15:26.015940: W tensorflow/core/framework/local_rendezvous.cc:404] Local rendezvous is aborting with status: OUT_OF_RANGE: End of sequence\n",
      "\t [[{{node IteratorGetNext}}]]\n"
     ]
    }
   ],
   "source": [
    "batched_train = train_dataset.map(_parse_function).shuffle(1024).batch(32)\n",
    "batched_valid = valid_dataset.map(_parse_function).shuffle(1024).batch(32)\n",
    "\n",
    "history = model.fit(batched_train, epochs=10)"
   ],
   "metadata": {
    "collapsed": false,
    "ExecuteTime": {
     "end_time": "2024-04-15T17:15:26.193264Z",
     "start_time": "2024-04-15T16:54:07.360401Z"
    }
   },
   "id": "c3e0c1256368ffb5",
   "execution_count": 26
  },
  {
   "cell_type": "code",
   "outputs": [
    {
     "name": "stdout",
     "output_type": "stream",
     "text": [
      "\u001B[1m14/14\u001B[0m \u001B[32m━━━━━━━━━━━━━━━━━━━━\u001B[0m\u001B[37m\u001B[0m \u001B[1m22s\u001B[0m 1s/step - accuracy: 0.9149 - loss: 0.9771\n",
      "Training Accuracy: [0.7788737416267395, 0.9265402555465698]\n"
     ]
    },
    {
     "name": "stderr",
     "output_type": "stream",
     "text": [
      "2024-04-15 13:15:48.324899: W tensorflow/core/framework/local_rendezvous.cc:404] Local rendezvous is aborting with status: OUT_OF_RANGE: End of sequence\n",
      "\t [[{{node IteratorGetNext}}]]\n"
     ]
    },
    {
     "name": "stdout",
     "output_type": "stream",
     "text": [
      "\u001B[1m3/3\u001B[0m \u001B[32m━━━━━━━━━━━━━━━━━━━━\u001B[0m\u001B[37m\u001B[0m \u001B[1m4s\u001B[0m 989ms/step - accuracy: 0.9184 - loss: 1.5184\n",
      "Validation Accuracy: [1.3535583019256592, 0.9305555820465088]\n"
     ]
    },
    {
     "name": "stderr",
     "output_type": "stream",
     "text": [
      "2024-04-15 13:15:52.098296: W tensorflow/core/framework/local_rendezvous.cc:404] Local rendezvous is aborting with status: OUT_OF_RANGE: End of sequence\n",
      "\t [[{{node IteratorGetNext}}]]\n"
     ]
    }
   ],
   "source": [
    "train_accuracy = model.evaluate(batched_train)\n",
    "print(\"Training Accuracy:\", train_accuracy)\n",
    "\n",
    "valid_accuracy = model.evaluate(batched_valid)\n",
    "print(\"Validation Accuracy:\", valid_accuracy)"
   ],
   "metadata": {
    "collapsed": false,
    "ExecuteTime": {
     "end_time": "2024-04-15T17:15:52.139961Z",
     "start_time": "2024-04-15T17:15:26.211043Z"
    }
   },
   "id": "3a445d78821f5b0f",
   "execution_count": 27
  },
  {
   "cell_type": "code",
   "outputs": [],
   "source": [],
   "metadata": {
    "collapsed": false
   },
   "id": "dcff7a3ca692aabb"
  }
 ],
 "metadata": {
  "kernelspec": {
   "display_name": "Python 3",
   "language": "python",
   "name": "python3"
  },
  "language_info": {
   "codemirror_mode": {
    "name": "ipython",
    "version": 2
   },
   "file_extension": ".py",
   "mimetype": "text/x-python",
   "name": "python",
   "nbconvert_exporter": "python",
   "pygments_lexer": "ipython2",
   "version": "2.7.6"
  }
 },
 "nbformat": 4,
 "nbformat_minor": 5
}
